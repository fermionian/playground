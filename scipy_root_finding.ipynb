{
 "cells": [
  {
   "cell_type": "code",
   "execution_count": 22,
   "metadata": {},
   "outputs": [],
   "source": [
    "import numpy as np\n",
    "from scipy.optimize import fsolve,root"
   ]
  },
  {
   "cell_type": "code",
   "execution_count": 58,
   "metadata": {},
   "outputs": [
    {
     "name": "stdout",
     "output_type": "stream",
     "text": [
      "hybr\n",
      "The iteration is not making good progress, as measured by the \n",
      "  improvement from the last ten iterations.\n",
      "[ 1.48499752e+00 -7.00445480e-04]\n",
      "(0.2052181259621646, -0.37582901893870124)\n",
      "------------------------------------------------------------\n",
      "lm\n",
      "Both actual and predicted relative reductions in the sum of squares\n",
      "  are at most 0.000000\n",
      "[1.48507881e+00 4.56648753e-05]\n",
      "(0.20545906999409702, -0.37569698706790766)\n",
      "------------------------------------------------------------\n",
      "broyden1\n",
      "A solution was found at the specified tolerance.\n",
      "[0.99999993 1.0000001 ]\n",
      "(5.308124739755726e-08, 2.1918927473052463e-07)\n",
      "------------------------------------------------------------\n",
      "broyden2\n",
      "The maximum number of iterations allowed has been reached.\n",
      "[   32.26639099 -6987.89400761]\n",
      "(48831701.78154447, 37574650951783.54)\n",
      "------------------------------------------------------------\n",
      "anderson\n",
      "The maximum number of iterations allowed has been reached.\n",
      "[ 1.97205348 -0.00741638]\n",
      "(1.8890499311842692, 0.6433665835497151)\n",
      "------------------------------------------------------------\n",
      "linearmixing\n",
      "The maximum number of iterations allowed has been reached.\n",
      "[6.19764359 3.3397235 ]\n",
      "(47.5645391087789, 216.09604389844878)\n",
      "------------------------------------------------------------\n",
      "excitingmixing\n"
     ]
    },
    {
     "name": "stderr",
     "output_type": "stream",
     "text": [
      "/Users/yizhou/miniconda3/envs/py3k/lib/python3.7/site-packages/ipykernel_launcher.py:3: RuntimeWarning: overflow encountered in exp\n",
      "  This is separate from the ipykernel package so we can avoid doing imports until\n"
     ]
    },
    {
     "name": "stdout",
     "output_type": "stream",
     "text": [
      "The maximum number of iterations allowed has been reached.\n",
      "[9.43007514 5.81769333]\n",
      "(120.77187275217531, 4777.747490095411)\n",
      "------------------------------------------------------------\n",
      "krylov\n",
      "The maximum number of iterations allowed has been reached.\n",
      "[1.99814428 0.50602955]\n",
      "(2.248646463602678, 0.8428190475778168)\n",
      "------------------------------------------------------------\n",
      "df-sane\n",
      "successful convergence\n",
      "[1. 1.]\n",
      "(4.097749251030791e-09, 4.080744631096422e-09)\n",
      "------------------------------------------------------------\n"
     ]
    }
   ],
   "source": [
    "def f(x):\n",
    "    f1 = x[0]**2+x[1]**2-2\n",
    "    f2 = np.exp(x[0]-1)+x[1]**3-2\n",
    "    return f1,f2\n",
    "\n",
    "for m in ['hybr','lm','broyden1','broyden2','anderson','linearmixing','excitingmixing','krylov','df-sane']:\n",
    "    \n",
    "    print (m)\n",
    "    x = root(f,[2,0.5],method=m)\n",
    "    print (x.message)\n",
    "    print (x.x)\n",
    "    print (f(x.x))\n",
    "    print ('-'*60)"
   ]
  },
  {
   "cell_type": "code",
   "execution_count": 48,
   "metadata": {},
   "outputs": [
    {
     "data": {
      "text/plain": [
       "    fjac: array([[-0.93360476, -0.35830456],\n",
       "       [ 0.35830456, -0.93360476]])\n",
       "     fun: array([0.0000000e+00, 8.8817842e-16])\n",
       " message: 'The solution converged.'\n",
       "    nfev: 55\n",
       "     qtf: array([1.03389172e-10, 1.40527880e-10])\n",
       "       r: array([-2.06590331, -2.83327438, -1.93622187])\n",
       "  status: 1\n",
       " success: True\n",
       "       x: array([1., 1.])"
      ]
     },
     "execution_count": 48,
     "metadata": {},
     "output_type": "execute_result"
    }
   ],
   "source": [
    "x"
   ]
  },
  {
   "cell_type": "code",
   "execution_count": 49,
   "metadata": {},
   "outputs": [
    {
     "data": {
      "text/plain": [
       "(0.0, 8.881784197001252e-16)"
      ]
     },
     "execution_count": 49,
     "metadata": {},
     "output_type": "execute_result"
    }
   ],
   "source": [
    "f(x.x)"
   ]
  },
  {
   "cell_type": "code",
   "execution_count": null,
   "metadata": {},
   "outputs": [],
   "source": []
  }
 ],
 "metadata": {
  "kernelspec": {
   "display_name": "Python 3",
   "language": "python",
   "name": "python3"
  },
  "language_info": {
   "codemirror_mode": {
    "name": "ipython",
    "version": 3
   },
   "file_extension": ".py",
   "mimetype": "text/x-python",
   "name": "python",
   "nbconvert_exporter": "python",
   "pygments_lexer": "ipython3",
   "version": "3.7.7"
  }
 },
 "nbformat": 4,
 "nbformat_minor": 4
}
